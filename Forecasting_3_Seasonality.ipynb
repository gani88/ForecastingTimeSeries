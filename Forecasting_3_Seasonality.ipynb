{
  "nbformat": 4,
  "nbformat_minor": 0,
  "metadata": {
    "colab": {
      "provenance": [],
      "toc_visible": true,
      "authorship_tag": "ABX9TyPN7yp5OjAHKTtpUhD+mXCY",
      "include_colab_link": true
    },
    "kernelspec": {
      "name": "python3",
      "display_name": "Python 3"
    },
    "language_info": {
      "name": "python"
    }
  },
  "cells": [
    {
      "cell_type": "markdown",
      "metadata": {
        "id": "view-in-github",
        "colab_type": "text"
      },
      "source": [
        "<a href=\"https://colab.research.google.com/github/gani88/ForecastingTimeSeries/blob/main/Forecasting_3_Seasonality.ipynb\" target=\"_parent\"><img src=\"https://colab.research.google.com/assets/colab-badge.svg\" alt=\"Open In Colab\"/></a>"
      ]
    },
    {
      "cell_type": "markdown",
      "source": [
        "# Seasonality\n",
        "\n",
        "Next is I learn about seasonality in Time Series. So what is this ?\n",
        "\n",
        "Seasonality in the context of time series analysis refers to a pattern of regular, recurring changes in the mean (average) of a series over a specific period of time. This pattern is characterized by distinct cycles that repeat at consistent intervals. When seasonality is present in a time series, you can observe certain behaviors or patterns that occur predictably over time.\n",
        "\n",
        "**Periodic and Repetitive Changes**\n",
        "\n",
        "Seasonal changes are periodic in nature, meaning they occur at fixed and predictable intervals. These intervals can be daily, weekly, monthly, yearly, or any other defined time period. The key aspect is that the changes repeat in a cycle.\n",
        "\n",
        "\n",
        "---\n",
        "\n",
        "\n",
        "**Clock and Calendar Influence**\n",
        "\n",
        "Seasonal patterns often follow the rhythms of the clock and calendar. This means that the changes in the time series tend to synchronize with the passage of time on a clock (hours, days) and calendar (weeks, months, years). For example, you might notice specific patterns that repeat every day, every week, or every year.\n",
        "\n",
        "\n",
        "---\n",
        "\n",
        "\n",
        "**Natural and Social Influences**\n",
        "\n",
        "The reasons behind seasonality can vary. Natural influences include cycles driven by the natural world, such as the changing seasons, variations in daylight hours, or environmental factors that follow regular cycles over days or years. On the other hand, social influences involve human behaviors, practices, and conventions that are associated with specific dates and times. For instance, shopping patterns might show seasonality around holidays or weekends.\n",
        "\n",
        "\n",
        "---\n",
        "\n",
        "Here are a few examples of how seasonality can manifest:\n",
        "\n",
        "- A ice cream vendor might experience higher sales during summer months and lower sales during colder months, creating a yearly seasonal pattern.\n",
        "- Retail stores often see increased sales leading up to holidays like Christmas or back-to-school season.\n",
        "- Energy consumption might follow daily patterns with higher usage during daytime hours and lower usage at night.\n",
        "- Traffic congestion might exhibit daily patterns with higher congestion during rush hours.\n",
        "\n",
        "In summary, seasonality in a time series refers to regular and predictable patterns of change in the mean over defined time periods. These patterns can be influenced by both natural cycles and social behaviors, leading to recurring variations in the data that align with the clock and calendar."
      ],
      "metadata": {
        "id": "k4SVDChrcBsF"
      }
    },
    {
      "cell_type": "markdown",
      "source": [
        "## 2 Features\n",
        "There are two features in this kind of seasonality.\n",
        "\n",
        "**Indicators**\n",
        "\n",
        "Indicators refer to a type of feature that is particularly suitable when dealing with a season that has relatively few observations. This often occurs when you're analyzing a shorter period of time with a repeating pattern, such as a weekly season with daily observations. In this context, an indicator feature essentially acts as a binary flag that indicates whether a specific day belongs to a certain period within the repeating cycle.\n",
        "\n",
        "Example: In a retail context, if you're looking at daily sales data and you want to capture the difference between weekdays and weekends, you might create indicator features that take the value 1 for weekends (Saturday and Sunday) and 0 for weekdays.\n",
        "\n",
        "\n",
        "---\n",
        "\n",
        "\n",
        "**Fourier Features**\n",
        "\n",
        "Fourier features are another type of feature that is particularly effective when dealing with a season that has a large number of observations. This is often the case for longer periods with multiple cycles, such as an annual season with daily observations. Fourier features are based on Fourier analysis, which involves decomposing complex patterns into a sum of simpler trigonometric functions.\n",
        "\n",
        "Example: Imagine you're analyzing annual temperature data. Fourier features can help capture the complex variations in temperature over the course of a year by using multiple sinusoidal components. These components can effectively model different frequencies and amplitudes of the seasonal pattern."
      ],
      "metadata": {
        "id": "y2KmmvnBks_E"
      }
    },
    {
      "cell_type": "code",
      "execution_count": null,
      "metadata": {
        "id": "pUkKk-GXb3q0"
      },
      "outputs": [],
      "source": []
    }
  ]
}